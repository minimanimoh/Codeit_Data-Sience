{
 "cells": [
  {
   "cell_type": "code",
   "execution_count": 7,
   "metadata": {},
   "outputs": [],
   "source": [
    "from sklearn import datasets\n",
    "from sklearn.model_selection import cross_val_score\n",
    "from sklearn.linear_model import LogisticRegression\n",
    "\n",
    "import numpy as np\n",
    "import pandas as pd\n",
    "\n",
    "#경고메세지 출력방지\n",
    "import warnings\n",
    "warnings.simplefilter(action='ignore', category=FutureWarning)"
   ]
  },
  {
   "cell_type": "code",
   "execution_count": 8,
   "metadata": {},
   "outputs": [],
   "source": [
    "iris_data =datasets.load_iris()"
   ]
  },
  {
   "cell_type": "code",
   "execution_count": 9,
   "metadata": {},
   "outputs": [],
   "source": [
    "X = pd.DataFrame(iris_data.data, columns=iris_data.feature_names)\n",
    "y = pd.DataFrame(iris_data.target, columns=['Class'])"
   ]
  },
  {
   "cell_type": "code",
   "execution_count": 10,
   "metadata": {},
   "outputs": [],
   "source": [
    "logistic_model = LogisticRegression(max_iter=2000)"
   ]
  },
  {
   "cell_type": "code",
   "execution_count": 12,
   "metadata": {},
   "outputs": [
    {
     "data": {
      "text/plain": [
       "array([0.96666667, 1.        , 0.93333333, 0.96666667, 1.        ])"
      ]
     },
     "execution_count": 12,
     "metadata": {},
     "output_type": "execute_result"
    }
   ],
   "source": [
    "cross_val_score(logistic_model, X, y.values.ravel(), cv=5)"
   ]
  },
  {
   "cell_type": "code",
   "execution_count": 14,
   "metadata": {},
   "outputs": [
    {
     "data": {
      "text/plain": [
       "0.9733333333333334"
      ]
     },
     "execution_count": 14,
     "metadata": {},
     "output_type": "execute_result"
    }
   ],
   "source": [
    "np.average(cross_val_score(logistic_model, X, y.values.ravel(), cv=5))"
   ]
  },
  {
   "cell_type": "code",
   "execution_count": null,
   "metadata": {},
   "outputs": [],
   "source": [
    "#summary\n",
    "from sklearn.linear_model import LogisticRegression\n",
    "from sklearn.model_selection import cross_val_score\n",
    "\n",
    "import numpy as np\n",
    "import pandas as pd\n",
    "\n",
    "GENDER_FILE_PATH = './datasets/gender.csv'\n",
    "\n",
    "gender_df = pd.read_csv(GENDER_FILE_PATH)\n",
    "\n",
    "X = pd.get_dummies(gender_df.drop(['Gender'], axis=1)) # 입력 변수를 one-hot encode한다\n",
    "y = gender_df[['Gender']].values.ravel()\n",
    "\n",
    "logistic_model = LogisticRegression(solver='saga', max_iter=2000)\n",
    "\n",
    "k_fold_score = np.average(cross_val_score(logistic_model, X, y, cv=5))\n",
    "k_fold_score"
   ]
  },
  {
   "cell_type": "code",
   "execution_count": null,
   "metadata": {},
   "outputs": [],
   "source": []
  },
  {
   "cell_type": "code",
   "execution_count": 15,
   "metadata": {},
   "outputs": [],
   "source": [
    "#Grid Search\n",
    "from sklearn.linear_model import Lasso\n",
    "from sklearn.model_selection import train_test_split\n",
    "from sklearn.metrics import mean_squared_error\n",
    "from sklearn.preprocessing import PolynomialFeatures\n",
    "from sklearn.model_selection import GridSearchCV\n",
    "from math import sqrt\n",
    "\n",
    "import numpy as np\n",
    "import pandas as pd"
   ]
  },
  {
   "cell_type": "code",
   "execution_count": 19,
   "metadata": {},
   "outputs": [],
   "source": [
    "# Data Preparation\n",
    "admission_df = pd.read_csv('Downloads/admission_data.csv')\n",
    "X = admission_df.drop('Chance of Admit ', axis=1)\n",
    "\n",
    "polynomial_transformer = PolynomialFeatures(2) #2차식 변형기 (입력변수를 2차항으로 변형)\n",
    "polynomial_features = polynomial_transformer.fit_transform(X.values) \n",
    "features = polynomial_transformer.get_feature_names(X.columns)\n",
    "\n",
    "X = pd.DataFrame(polynomial_features, columns=features) #입력변수\n",
    "y = admission_df[['Chance of Admit ']] #목표변수"
   ]
  },
  {
   "cell_type": "code",
   "execution_count": 21,
   "metadata": {},
   "outputs": [],
   "source": [
    "# Make hyperparameter candidates dictionary\n",
    "hyper_parameter = {\n",
    "    'alpha' : [0.01, 0.1, 1, 10],\n",
    "    'max_iter' : [100, 500, 1000, 1500, 2000]\n",
    "}"
   ]
  },
  {
   "cell_type": "code",
   "execution_count": 22,
   "metadata": {},
   "outputs": [],
   "source": [
    "lasso_model = Lasso()"
   ]
  },
  {
   "cell_type": "code",
   "execution_count": 23,
   "metadata": {},
   "outputs": [
    {
     "name": "stderr",
     "output_type": "stream",
     "text": [
      "/Users/minimanimo/opt/anaconda3/lib/python3.8/site-packages/sklearn/linear_model/_coordinate_descent.py:529: ConvergenceWarning: Objective did not converge. You might want to increase the number of iterations. Duality gap: 0.42539974721321205, tolerance: 0.0006706039000000001\n",
      "  model = cd_fast.enet_coordinate_descent(\n",
      "/Users/minimanimo/opt/anaconda3/lib/python3.8/site-packages/sklearn/linear_model/_coordinate_descent.py:529: ConvergenceWarning: Objective did not converge. You might want to increase the number of iterations. Duality gap: 0.6427237098660842, tolerance: 0.0008245817750000003\n",
      "  model = cd_fast.enet_coordinate_descent(\n",
      "/Users/minimanimo/opt/anaconda3/lib/python3.8/site-packages/sklearn/linear_model/_coordinate_descent.py:529: ConvergenceWarning: Objective did not converge. You might want to increase the number of iterations. Duality gap: 0.7268361771953716, tolerance: 0.0008590157750000003\n",
      "  model = cd_fast.enet_coordinate_descent(\n",
      "/Users/minimanimo/opt/anaconda3/lib/python3.8/site-packages/sklearn/linear_model/_coordinate_descent.py:529: ConvergenceWarning: Objective did not converge. You might want to increase the number of iterations. Duality gap: 0.636431772406463, tolerance: 0.0007997223999999996\n",
      "  model = cd_fast.enet_coordinate_descent(\n",
      "/Users/minimanimo/opt/anaconda3/lib/python3.8/site-packages/sklearn/linear_model/_coordinate_descent.py:529: ConvergenceWarning: Objective did not converge. You might want to increase the number of iterations. Duality gap: 0.6963222954602127, tolerance: 0.0008114630999999998\n",
      "  model = cd_fast.enet_coordinate_descent(\n",
      "/Users/minimanimo/opt/anaconda3/lib/python3.8/site-packages/sklearn/linear_model/_coordinate_descent.py:529: ConvergenceWarning: Objective did not converge. You might want to increase the number of iterations. Duality gap: 0.41804137263725566, tolerance: 0.0006706039000000001\n",
      "  model = cd_fast.enet_coordinate_descent(\n",
      "/Users/minimanimo/opt/anaconda3/lib/python3.8/site-packages/sklearn/linear_model/_coordinate_descent.py:529: ConvergenceWarning: Objective did not converge. You might want to increase the number of iterations. Duality gap: 0.6367536921074403, tolerance: 0.0008245817750000003\n",
      "  model = cd_fast.enet_coordinate_descent(\n",
      "/Users/minimanimo/opt/anaconda3/lib/python3.8/site-packages/sklearn/linear_model/_coordinate_descent.py:529: ConvergenceWarning: Objective did not converge. You might want to increase the number of iterations. Duality gap: 0.7207154089253446, tolerance: 0.0008590157750000003\n",
      "  model = cd_fast.enet_coordinate_descent(\n",
      "/Users/minimanimo/opt/anaconda3/lib/python3.8/site-packages/sklearn/linear_model/_coordinate_descent.py:529: ConvergenceWarning: Objective did not converge. You might want to increase the number of iterations. Duality gap: 0.6307153394423187, tolerance: 0.0007997223999999996\n",
      "  model = cd_fast.enet_coordinate_descent(\n",
      "/Users/minimanimo/opt/anaconda3/lib/python3.8/site-packages/sklearn/linear_model/_coordinate_descent.py:529: ConvergenceWarning: Objective did not converge. You might want to increase the number of iterations. Duality gap: 0.6917305509775319, tolerance: 0.0008114630999999998\n",
      "  model = cd_fast.enet_coordinate_descent(\n",
      "/Users/minimanimo/opt/anaconda3/lib/python3.8/site-packages/sklearn/linear_model/_coordinate_descent.py:529: ConvergenceWarning: Objective did not converge. You might want to increase the number of iterations. Duality gap: 0.38139406350330946, tolerance: 0.0006706039000000001\n",
      "  model = cd_fast.enet_coordinate_descent(\n",
      "/Users/minimanimo/opt/anaconda3/lib/python3.8/site-packages/sklearn/linear_model/_coordinate_descent.py:529: ConvergenceWarning: Objective did not converge. You might want to increase the number of iterations. Duality gap: 0.6337331617287278, tolerance: 0.0008245817750000003\n",
      "  model = cd_fast.enet_coordinate_descent(\n",
      "/Users/minimanimo/opt/anaconda3/lib/python3.8/site-packages/sklearn/linear_model/_coordinate_descent.py:529: ConvergenceWarning: Objective did not converge. You might want to increase the number of iterations. Duality gap: 0.7147572370410501, tolerance: 0.0008590157750000003\n",
      "  model = cd_fast.enet_coordinate_descent(\n",
      "/Users/minimanimo/opt/anaconda3/lib/python3.8/site-packages/sklearn/linear_model/_coordinate_descent.py:529: ConvergenceWarning: Objective did not converge. You might want to increase the number of iterations. Duality gap: 0.627264042501056, tolerance: 0.0007997223999999996\n",
      "  model = cd_fast.enet_coordinate_descent(\n",
      "/Users/minimanimo/opt/anaconda3/lib/python3.8/site-packages/sklearn/linear_model/_coordinate_descent.py:529: ConvergenceWarning: Objective did not converge. You might want to increase the number of iterations. Duality gap: 0.6877283781941079, tolerance: 0.0008114630999999998\n",
      "  model = cd_fast.enet_coordinate_descent(\n",
      "/Users/minimanimo/opt/anaconda3/lib/python3.8/site-packages/sklearn/linear_model/_coordinate_descent.py:529: ConvergenceWarning: Objective did not converge. You might want to increase the number of iterations. Duality gap: 0.3582355978961922, tolerance: 0.0006706039000000001\n",
      "  model = cd_fast.enet_coordinate_descent(\n",
      "/Users/minimanimo/opt/anaconda3/lib/python3.8/site-packages/sklearn/linear_model/_coordinate_descent.py:529: ConvergenceWarning: Objective did not converge. You might want to increase the number of iterations. Duality gap: 0.6329945142204283, tolerance: 0.0008245817750000003\n",
      "  model = cd_fast.enet_coordinate_descent(\n",
      "/Users/minimanimo/opt/anaconda3/lib/python3.8/site-packages/sklearn/linear_model/_coordinate_descent.py:529: ConvergenceWarning: Objective did not converge. You might want to increase the number of iterations. Duality gap: 0.7160084566094341, tolerance: 0.0008590157750000003\n",
      "  model = cd_fast.enet_coordinate_descent(\n",
      "/Users/minimanimo/opt/anaconda3/lib/python3.8/site-packages/sklearn/linear_model/_coordinate_descent.py:529: ConvergenceWarning: Objective did not converge. You might want to increase the number of iterations. Duality gap: 0.6286326647079473, tolerance: 0.0007997223999999996\n",
      "  model = cd_fast.enet_coordinate_descent(\n",
      "/Users/minimanimo/opt/anaconda3/lib/python3.8/site-packages/sklearn/linear_model/_coordinate_descent.py:529: ConvergenceWarning: Objective did not converge. You might want to increase the number of iterations. Duality gap: 0.682470456152584, tolerance: 0.0008114630999999998\n",
      "  model = cd_fast.enet_coordinate_descent(\n",
      "/Users/minimanimo/opt/anaconda3/lib/python3.8/site-packages/sklearn/linear_model/_coordinate_descent.py:529: ConvergenceWarning: Objective did not converge. You might want to increase the number of iterations. Duality gap: 0.3581814283368821, tolerance: 0.0006706039000000001\n",
      "  model = cd_fast.enet_coordinate_descent(\n",
      "/Users/minimanimo/opt/anaconda3/lib/python3.8/site-packages/sklearn/linear_model/_coordinate_descent.py:529: ConvergenceWarning: Objective did not converge. You might want to increase the number of iterations. Duality gap: 0.5533129048473889, tolerance: 0.0008245817750000003\n",
      "  model = cd_fast.enet_coordinate_descent(\n",
      "/Users/minimanimo/opt/anaconda3/lib/python3.8/site-packages/sklearn/linear_model/_coordinate_descent.py:529: ConvergenceWarning: Objective did not converge. You might want to increase the number of iterations. Duality gap: 0.7153730577890085, tolerance: 0.0008590157750000003\n",
      "  model = cd_fast.enet_coordinate_descent(\n",
      "/Users/minimanimo/opt/anaconda3/lib/python3.8/site-packages/sklearn/linear_model/_coordinate_descent.py:529: ConvergenceWarning: Objective did not converge. You might want to increase the number of iterations. Duality gap: 0.6255174062346293, tolerance: 0.0007997223999999996\n",
      "  model = cd_fast.enet_coordinate_descent(\n",
      "/Users/minimanimo/opt/anaconda3/lib/python3.8/site-packages/sklearn/linear_model/_coordinate_descent.py:529: ConvergenceWarning: Objective did not converge. You might want to increase the number of iterations. Duality gap: 0.6673846700425226, tolerance: 0.0008114630999999998\n",
      "  model = cd_fast.enet_coordinate_descent(\n",
      "/Users/minimanimo/opt/anaconda3/lib/python3.8/site-packages/sklearn/linear_model/_coordinate_descent.py:529: ConvergenceWarning: Objective did not converge. You might want to increase the number of iterations. Duality gap: 0.4360717251118691, tolerance: 0.0006706039000000001\n",
      "  model = cd_fast.enet_coordinate_descent(\n",
      "/Users/minimanimo/opt/anaconda3/lib/python3.8/site-packages/sklearn/linear_model/_coordinate_descent.py:529: ConvergenceWarning: Objective did not converge. You might want to increase the number of iterations. Duality gap: 0.6627303534999366, tolerance: 0.0008245817750000003\n",
      "  model = cd_fast.enet_coordinate_descent(\n",
      "/Users/minimanimo/opt/anaconda3/lib/python3.8/site-packages/sklearn/linear_model/_coordinate_descent.py:529: ConvergenceWarning: Objective did not converge. You might want to increase the number of iterations. Duality gap: 0.7354661917783785, tolerance: 0.0008590157750000003\n",
      "  model = cd_fast.enet_coordinate_descent(\n",
      "/Users/minimanimo/opt/anaconda3/lib/python3.8/site-packages/sklearn/linear_model/_coordinate_descent.py:529: ConvergenceWarning: Objective did not converge. You might want to increase the number of iterations. Duality gap: 0.6449387332179901, tolerance: 0.0007997223999999996\n",
      "  model = cd_fast.enet_coordinate_descent(\n",
      "/Users/minimanimo/opt/anaconda3/lib/python3.8/site-packages/sklearn/linear_model/_coordinate_descent.py:529: ConvergenceWarning: Objective did not converge. You might want to increase the number of iterations. Duality gap: 0.7053024607302509, tolerance: 0.0008114630999999998\n",
      "  model = cd_fast.enet_coordinate_descent(\n",
      "/Users/minimanimo/opt/anaconda3/lib/python3.8/site-packages/sklearn/linear_model/_coordinate_descent.py:529: ConvergenceWarning: Objective did not converge. You might want to increase the number of iterations. Duality gap: 0.15341008856639088, tolerance: 0.0006706039000000001\n",
      "  model = cd_fast.enet_coordinate_descent(\n",
      "/Users/minimanimo/opt/anaconda3/lib/python3.8/site-packages/sklearn/linear_model/_coordinate_descent.py:529: ConvergenceWarning: Objective did not converge. You might want to increase the number of iterations. Duality gap: 0.6207512911666861, tolerance: 0.0008245817750000003\n",
      "  model = cd_fast.enet_coordinate_descent(\n",
      "/Users/minimanimo/opt/anaconda3/lib/python3.8/site-packages/sklearn/linear_model/_coordinate_descent.py:529: ConvergenceWarning: Objective did not converge. You might want to increase the number of iterations. Duality gap: 0.5237184980368063, tolerance: 0.0008590157750000003\n",
      "  model = cd_fast.enet_coordinate_descent(\n",
      "/Users/minimanimo/opt/anaconda3/lib/python3.8/site-packages/sklearn/linear_model/_coordinate_descent.py:529: ConvergenceWarning: Objective did not converge. You might want to increase the number of iterations. Duality gap: 0.44014746799796867, tolerance: 0.0007997223999999996\n",
      "  model = cd_fast.enet_coordinate_descent(\n",
      "/Users/minimanimo/opt/anaconda3/lib/python3.8/site-packages/sklearn/linear_model/_coordinate_descent.py:529: ConvergenceWarning: Objective did not converge. You might want to increase the number of iterations. Duality gap: 0.6479339766744463, tolerance: 0.0008114630999999998\n",
      "  model = cd_fast.enet_coordinate_descent(\n",
      "/Users/minimanimo/opt/anaconda3/lib/python3.8/site-packages/sklearn/linear_model/_coordinate_descent.py:529: ConvergenceWarning: Objective did not converge. You might want to increase the number of iterations. Duality gap: 0.2814801664133189, tolerance: 0.0006706039000000001\n",
      "  model = cd_fast.enet_coordinate_descent(\n",
      "/Users/minimanimo/opt/anaconda3/lib/python3.8/site-packages/sklearn/linear_model/_coordinate_descent.py:529: ConvergenceWarning: Objective did not converge. You might want to increase the number of iterations. Duality gap: 0.5805234782470223, tolerance: 0.0008245817750000003\n",
      "  model = cd_fast.enet_coordinate_descent(\n",
      "/Users/minimanimo/opt/anaconda3/lib/python3.8/site-packages/sklearn/linear_model/_coordinate_descent.py:529: ConvergenceWarning: Objective did not converge. You might want to increase the number of iterations. Duality gap: 0.3755330769448539, tolerance: 0.0008590157750000003\n",
      "  model = cd_fast.enet_coordinate_descent(\n",
      "/Users/minimanimo/opt/anaconda3/lib/python3.8/site-packages/sklearn/linear_model/_coordinate_descent.py:529: ConvergenceWarning: Objective did not converge. You might want to increase the number of iterations. Duality gap: 0.2548200873416026, tolerance: 0.0007997223999999996\n",
      "  model = cd_fast.enet_coordinate_descent(\n",
      "/Users/minimanimo/opt/anaconda3/lib/python3.8/site-packages/sklearn/linear_model/_coordinate_descent.py:529: ConvergenceWarning: Objective did not converge. You might want to increase the number of iterations. Duality gap: 0.6318652688804614, tolerance: 0.0008114630999999998\n",
      "  model = cd_fast.enet_coordinate_descent(\n",
      "/Users/minimanimo/opt/anaconda3/lib/python3.8/site-packages/sklearn/linear_model/_coordinate_descent.py:529: ConvergenceWarning: Objective did not converge. You might want to increase the number of iterations. Duality gap: 0.22410745261376, tolerance: 0.0006706039000000001\n",
      "  model = cd_fast.enet_coordinate_descent(\n",
      "/Users/minimanimo/opt/anaconda3/lib/python3.8/site-packages/sklearn/linear_model/_coordinate_descent.py:529: ConvergenceWarning: Objective did not converge. You might want to increase the number of iterations. Duality gap: 0.48773319472990634, tolerance: 0.0008245817750000003\n",
      "  model = cd_fast.enet_coordinate_descent(\n",
      "/Users/minimanimo/opt/anaconda3/lib/python3.8/site-packages/sklearn/linear_model/_coordinate_descent.py:529: ConvergenceWarning: Objective did not converge. You might want to increase the number of iterations. Duality gap: 0.1850014291878741, tolerance: 0.0008590157750000003\n",
      "  model = cd_fast.enet_coordinate_descent(\n",
      "/Users/minimanimo/opt/anaconda3/lib/python3.8/site-packages/sklearn/linear_model/_coordinate_descent.py:529: ConvergenceWarning: Objective did not converge. You might want to increase the number of iterations. Duality gap: 0.12165472909527608, tolerance: 0.0007997223999999996\n",
      "  model = cd_fast.enet_coordinate_descent(\n",
      "/Users/minimanimo/opt/anaconda3/lib/python3.8/site-packages/sklearn/linear_model/_coordinate_descent.py:529: ConvergenceWarning: Objective did not converge. You might want to increase the number of iterations. Duality gap: 0.5926116253584146, tolerance: 0.0008114630999999998\n",
      "  model = cd_fast.enet_coordinate_descent(\n",
      "/Users/minimanimo/opt/anaconda3/lib/python3.8/site-packages/sklearn/linear_model/_coordinate_descent.py:529: ConvergenceWarning: Objective did not converge. You might want to increase the number of iterations. Duality gap: 0.14837409686494107, tolerance: 0.0006706039000000001\n",
      "  model = cd_fast.enet_coordinate_descent(\n",
      "/Users/minimanimo/opt/anaconda3/lib/python3.8/site-packages/sklearn/linear_model/_coordinate_descent.py:529: ConvergenceWarning: Objective did not converge. You might want to increase the number of iterations. Duality gap: 0.31056819628962645, tolerance: 0.0008245817750000003\n",
      "  model = cd_fast.enet_coordinate_descent(\n",
      "/Users/minimanimo/opt/anaconda3/lib/python3.8/site-packages/sklearn/linear_model/_coordinate_descent.py:529: ConvergenceWarning: Objective did not converge. You might want to increase the number of iterations. Duality gap: 0.06924497432287602, tolerance: 0.0008590157750000003\n",
      "  model = cd_fast.enet_coordinate_descent(\n",
      "/Users/minimanimo/opt/anaconda3/lib/python3.8/site-packages/sklearn/linear_model/_coordinate_descent.py:529: ConvergenceWarning: Objective did not converge. You might want to increase the number of iterations. Duality gap: 0.038612692705619844, tolerance: 0.0007997223999999996\n",
      "  model = cd_fast.enet_coordinate_descent(\n",
      "/Users/minimanimo/opt/anaconda3/lib/python3.8/site-packages/sklearn/linear_model/_coordinate_descent.py:529: ConvergenceWarning: Objective did not converge. You might want to increase the number of iterations. Duality gap: 0.53708841006401, tolerance: 0.0008114630999999998\n",
      "  model = cd_fast.enet_coordinate_descent(\n",
      "/Users/minimanimo/opt/anaconda3/lib/python3.8/site-packages/sklearn/linear_model/_coordinate_descent.py:529: ConvergenceWarning: Objective did not converge. You might want to increase the number of iterations. Duality gap: 0.20204337169085118, tolerance: 0.0006706039000000001\n",
      "  model = cd_fast.enet_coordinate_descent(\n",
      "/Users/minimanimo/opt/anaconda3/lib/python3.8/site-packages/sklearn/linear_model/_coordinate_descent.py:529: ConvergenceWarning: Objective did not converge. You might want to increase the number of iterations. Duality gap: 0.626195818081063, tolerance: 0.0008245817750000003\n",
      "  model = cd_fast.enet_coordinate_descent(\n",
      "/Users/minimanimo/opt/anaconda3/lib/python3.8/site-packages/sklearn/linear_model/_coordinate_descent.py:529: ConvergenceWarning: Objective did not converge. You might want to increase the number of iterations. Duality gap: 0.7323017543307965, tolerance: 0.0008590157750000003\n",
      "  model = cd_fast.enet_coordinate_descent(\n",
      "/Users/minimanimo/opt/anaconda3/lib/python3.8/site-packages/sklearn/linear_model/_coordinate_descent.py:529: ConvergenceWarning: Objective did not converge. You might want to increase the number of iterations. Duality gap: 0.6706071091856839, tolerance: 0.0007997223999999996\n",
      "  model = cd_fast.enet_coordinate_descent(\n",
      "/Users/minimanimo/opt/anaconda3/lib/python3.8/site-packages/sklearn/linear_model/_coordinate_descent.py:529: ConvergenceWarning: Objective did not converge. You might want to increase the number of iterations. Duality gap: 0.2986990116758912, tolerance: 0.0008114630999999998\n",
      "  model = cd_fast.enet_coordinate_descent(\n",
      "/Users/minimanimo/opt/anaconda3/lib/python3.8/site-packages/sklearn/linear_model/_coordinate_descent.py:529: ConvergenceWarning: Objective did not converge. You might want to increase the number of iterations. Duality gap: 0.14551702483246431, tolerance: 0.0006706039000000001\n",
      "  model = cd_fast.enet_coordinate_descent(\n",
      "/Users/minimanimo/opt/anaconda3/lib/python3.8/site-packages/sklearn/linear_model/_coordinate_descent.py:529: ConvergenceWarning: Objective did not converge. You might want to increase the number of iterations. Duality gap: 0.07437015298561489, tolerance: 0.0006706039000000001\n",
      "  model = cd_fast.enet_coordinate_descent(\n",
      "/Users/minimanimo/opt/anaconda3/lib/python3.8/site-packages/sklearn/linear_model/_coordinate_descent.py:529: ConvergenceWarning: Objective did not converge. You might want to increase the number of iterations. Duality gap: 0.0351424070189974, tolerance: 0.0006706039000000001\n",
      "  model = cd_fast.enet_coordinate_descent(\n",
      "/Users/minimanimo/opt/anaconda3/lib/python3.8/site-packages/sklearn/linear_model/_coordinate_descent.py:529: ConvergenceWarning: Objective did not converge. You might want to increase the number of iterations. Duality gap: 0.01634703963675732, tolerance: 0.0006706039000000001\n",
      "  model = cd_fast.enet_coordinate_descent(\n",
      "/Users/minimanimo/opt/anaconda3/lib/python3.8/site-packages/sklearn/linear_model/_coordinate_descent.py:529: ConvergenceWarning: Objective did not converge. You might want to increase the number of iterations. Duality gap: 0.16968472293031445, tolerance: 0.0008245817750000003\n",
      "  model = cd_fast.enet_coordinate_descent(\n",
      "/Users/minimanimo/opt/anaconda3/lib/python3.8/site-packages/sklearn/linear_model/_coordinate_descent.py:529: ConvergenceWarning: Objective did not converge. You might want to increase the number of iterations. Duality gap: 0.18731829570899627, tolerance: 0.0008590157750000003\n",
      "  model = cd_fast.enet_coordinate_descent(\n",
      "/Users/minimanimo/opt/anaconda3/lib/python3.8/site-packages/sklearn/linear_model/_coordinate_descent.py:529: ConvergenceWarning: Objective did not converge. You might want to increase the number of iterations. Duality gap: 0.025586189516657587, tolerance: 0.0007997223999999996\n",
      "  model = cd_fast.enet_coordinate_descent(\n",
      "/Users/minimanimo/opt/anaconda3/lib/python3.8/site-packages/sklearn/linear_model/_coordinate_descent.py:529: ConvergenceWarning: Objective did not converge. You might want to increase the number of iterations. Duality gap: 0.031104601829434086, tolerance: 0.0008114630999999998\n",
      "  model = cd_fast.enet_coordinate_descent(\n",
      "/Users/minimanimo/opt/anaconda3/lib/python3.8/site-packages/sklearn/linear_model/_coordinate_descent.py:529: ConvergenceWarning: Objective did not converge. You might want to increase the number of iterations. Duality gap: 0.7910950882660425, tolerance: 0.0009940386200000004\n",
      "  model = cd_fast.enet_coordinate_descent(\n"
     ]
    },
    {
     "data": {
      "text/plain": [
       "GridSearchCV(cv=5, estimator=Lasso(),\n",
       "             param_grid={'alpha': [0.01, 0.1, 1, 10],\n",
       "                         'max_iter': [100, 500, 1000, 1500, 2000]})"
      ]
     },
     "execution_count": 23,
     "metadata": {},
     "output_type": "execute_result"
    }
   ],
   "source": [
    "# 사용할 모델, 실험할 하이퍼파라미터 값, 교차검증 몇 겹?\n",
    "hyper_parameter_tuner = GridSearchCV(lasso_model, hyper_parameter, cv=5)\n",
    "hyper_parameter_tuner.fit(X,y)"
   ]
  },
  {
   "cell_type": "code",
   "execution_count": 24,
   "metadata": {},
   "outputs": [
    {
     "data": {
      "text/plain": [
       "{'alpha': 1, 'max_iter': 100}"
      ]
     },
     "execution_count": 24,
     "metadata": {},
     "output_type": "execute_result"
    }
   ],
   "source": [
    "hyper_parameter_tuner.best_params_"
   ]
  },
  {
   "cell_type": "code",
   "execution_count": null,
   "metadata": {},
   "outputs": [],
   "source": [
    "#summary\n",
    "from sklearn.linear_model import LogisticRegression\n",
    "from sklearn.model_selection import GridSearchCV\n",
    "\n",
    "import numpy as np\n",
    "import pandas as pd\n",
    "\n",
    "import warnings\n",
    "warnings.simplefilter(action='ignore')\n",
    "\n",
    "GENDER_FILE_PATH = './datasets/gender.csv'\n",
    "\n",
    "gender_df = pd.read_csv(GENDER_FILE_PATH)\n",
    "\n",
    "X = pd.get_dummies(gender_df.drop(['Gender'], axis=1)) # 입력 변수를 one-hot encode한다\n",
    "y = gender_df[['Gender']].values.ravel()\n",
    "\n",
    "logistic_model = LogisticRegression()\n",
    "\n",
    "hyper_parameters = {\n",
    "    'penalty': ['l1', 'l2'],\n",
    "    'max_iter': [500, 1000, 1500, 2000]\n",
    "}\n",
    "\n",
    "hyper_parameter_tuner = GridSearchCV(estimator=logistic_model, param_grid=hyper_parameters, cv=5)\n",
    "\n",
    "hyper_parameter_tuner.fit(X, y)\n",
    "best_params = hyper_parameter_tuner.best_params_\n",
    "\n",
    "best_params"
   ]
  }
 ],
 "metadata": {
  "kernelspec": {
   "display_name": "Python 3",
   "language": "python",
   "name": "python3"
  },
  "language_info": {
   "codemirror_mode": {
    "name": "ipython",
    "version": 3
   },
   "file_extension": ".py",
   "mimetype": "text/x-python",
   "name": "python",
   "nbconvert_exporter": "python",
   "pygments_lexer": "ipython3",
   "version": "3.8.5"
  }
 },
 "nbformat": 4,
 "nbformat_minor": 4
}
