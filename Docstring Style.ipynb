{
 "cells": [
  {
   "cell_type": "code",
   "execution_count": null,
   "metadata": {},
   "outputs": [],
   "source": [
    "#Google docstring:\n",
    "\"\"\"유저에게 추천할 영상을 찾아준다\n",
    "Parameters:\n",
    "  number_of_suggestions (int): 추천하고 싶은 영상 수\n",
    "    (기본값은 5)\n",
    "    \n",
    "Returns:\n",
    "  list: 추천할 영상 주소가 담긴 리스트\n",
    "\"\"\"\n",
    "\n",
    "#reStructuredText (파이썬 공식 문서화 기준):\n",
    "\"\"\"유저에게 추천할 영상을 찾아준다\n",
    "    \n",
    ":param number_of_suggestions: 추천하고 싶은 영상 수\n",
    "  (기본값은 5)\n",
    ":type number_of_suggestions: int\n",
    ":returns: 추천할 영상 주소가 담긴 리스트\n",
    ":rtype: list\n",
    "\"\"\"\n",
    "\n",
    "#NumPy/SciPy (통계, 과학 분야에서 쓰이는 Python 라이브러리):\n",
    "\"\"\"유저에게 추천할 영상을 찾아준다\n",
    "    \n",
    "Parameters\n",
    "----------\n",
    "number_of_suggestions: int\n",
    "  추천하고 싶은 영상 수 (기본값은 5)\n",
    "    \n",
    "Returns\n",
    "-------\n",
    "list \n",
    "  추천할 영상 주소가 담긴 리스트\n",
    "\"\"\""
   ]
  }
 ],
 "metadata": {
  "kernelspec": {
   "display_name": "Python 3",
   "language": "python",
   "name": "python3"
  },
  "language_info": {
   "codemirror_mode": {
    "name": "ipython",
    "version": 3
   },
   "file_extension": ".py",
   "mimetype": "text/x-python",
   "name": "python",
   "nbconvert_exporter": "python",
   "pygments_lexer": "ipython3",
   "version": "3.8.5"
  }
 },
 "nbformat": 4,
 "nbformat_minor": 4
}
