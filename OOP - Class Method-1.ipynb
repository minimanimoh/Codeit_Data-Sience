{
 "cells": [
  {
   "cell_type": "code",
   "execution_count": null,
   "metadata": {},
   "outputs": [],
   "source": [
    "class User:\n",
    "    def __init__(self, name, email, password):\n",
    "        self.name = name\n",
    "        self.email = email\n",
    "        self.password = password\n",
    "\n",
    "    @classmethod\n",
    "    def from_string(cls, string_params):\n",
    "        # 코드를 쓰세요\n",
    "        string_params = string_params.split(\",\") # split 메소드로 ,를 기준으로 문자열을 분리해 리스트로 변경\n",
    "        younghoon_name = string_params[0]\n",
    "        younghoon_email = string_params[1]\n",
    "        younghoon_password = string_params[2]\n",
    "        return User(younghoon_name, younghoon_email, younghoon_password)\n",
    "        \n",
    "    @classmethod\n",
    "    def from_list(cls, list_params):\n",
    "        # 코드를 쓰세요\n",
    "        yoonsoo_name = list_params[0]\n",
    "        yoonsoo_email = list_params[1]\n",
    "        yoonsoo_password = list_params[2]\n",
    "        return User(yoonsoo_name, yoonsoo_email, yoonsoo_password)\n",
    "# 유저 생성 및 초기값 설정\n",
    "younghoon = User.from_string(\"강영훈,younghoon@codeit.kr,123456\")\n",
    "yoonsoo = User.from_list([\"이윤수\", \"yoonsoo@codeit.kr\", \"abcdef\"])\n",
    "\n",
    "print(younghoon.name, younghoon.email, younghoon.password)\n",
    "print(yoonsoo.name, yoonsoo.email, yoonsoo.password)"
   ]
  },
  {
   "cell_type": "code",
   "execution_count": null,
   "metadata": {},
   "outputs": [],
   "source": [
    "class User:\n",
    "    count = 0\n",
    "    \n",
    "    def __init__(self, name, email, pw):\n",
    "        self.name = name\n",
    "        self.email = email\n",
    "        self.pw = pw\n",
    "    \n",
    "        User.count += 1\n",
    "    \n",
    "    def say_hello(self):\n",
    "        print(\"안녕하세요! 저는 {}입니다!\".format(self.name))\n",
    "    \n",
    "    def __str__(self):\n",
    "        return \"사용자: {}, 이메일: {}, 비밀번호: ******\".format(self.name, self.email)\n",
    "    \n",
    "    @classmethod\n",
    "    def number_of_users(cls):\n",
    "        print(\"총 유저 수는: {}입니다\".format(cls.count))\n",
    "    \n",
    "    @staticmethod\n",
    "    def is_valid_email(email_address):\n",
    "        return \"@\" in email_address"
   ]
  }
 ],
 "metadata": {
  "kernelspec": {
   "display_name": "Python 3",
   "language": "python",
   "name": "python3"
  },
  "language_info": {
   "codemirror_mode": {
    "name": "ipython",
    "version": 3
   },
   "file_extension": ".py",
   "mimetype": "text/x-python",
   "name": "python",
   "nbconvert_exporter": "python",
   "pygments_lexer": "ipython3",
   "version": "3.8.5"
  }
 },
 "nbformat": 4,
 "nbformat_minor": 4
}
